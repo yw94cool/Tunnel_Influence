{
 "cells": [
  {
   "cell_type": "markdown",
   "metadata": {
    "toc": true
   },
   "source": [
    "<h1>Table of Contents<span class=\"tocSkip\"></span></h1>\n",
    "<div class=\"toc\"><ul class=\"toc-item\"><li><span><a href=\"#load-highway-data\" data-toc-modified-id=\"load-highway-data-1\"><span class=\"toc-item-num\">1&nbsp;&nbsp;</span>load highway data</a></span></li><li><span><a href=\"#tunnel-buffer-generation\" data-toc-modified-id=\"tunnel-buffer-generation-2\"><span class=\"toc-item-num\">2&nbsp;&nbsp;</span>tunnel buffer generation</a></span></li><li><span><a href=\"#get-osm-buildings-and-write-to-shapfile\" data-toc-modified-id=\"get-osm-buildings-and-write-to-shapfile-3\"><span class=\"toc-item-num\">3&nbsp;&nbsp;</span>get osm buildings and write to shapfile</a></span></li></ul></div>"
   ]
  },
  {
   "cell_type": "code",
   "execution_count": 75,
   "metadata": {},
   "outputs": [],
   "source": [
    "import pandas as pd\n",
    "import geopandas as gpd\n",
    "from shapely.geometry import *\n",
    "from fiona.crs import from_epsg\n",
    "import overpass\n",
    "from shapely.wkt import loads\n",
    "\n",
    "type_dict = {'node':1,'way':3,'relation':5}\n",
    "\n",
    "### osm code\n",
    "def simple_osm_gdf(bounding_txt='(35.5209663320001,139.562782238,35.8176034620001,139.918904167)',filter_attr='',geotype='way'):\n",
    "    api = overpass.API()\n",
    "    final_query = \"%s%s%s\" % (geotype,filter_attr,bounding_txt)\n",
    "    features = api.Get(final_query,responseformat=\"geojson\",verbosity='geom')\n",
    "    feature_list = get_geojson_features_by_query_result(features,type=geotype)\n",
    "    return gpd.GeoDataFrame.from_features(feature_list)\n",
    "\n",
    "def get_geojson_features_by_query_result(response,type='relation',geometry_list=['multipolygon']):\n",
    "    try:\n",
    "        if (type == \"relation\") :\n",
    "            # response = api.Get('%s(%s)' % (type, str(poi.id)), responseformat=\"json\")\n",
    "            elements = response['elements']\n",
    "            feature_list = [get_relation_geojson_feature(element,geometry_list) for element in elements]\n",
    "        else:\n",
    "            features = response.get(\"features\")\n",
    "            feature_list = [update_geojson_feature_for_gdf(feature,['type'],poi_type=type_dict[type]) for feature in features]\n",
    "        return feature_list\n",
    "    except Exception as inst:\n",
    "        print(inst)\n",
    "        return []\n",
    "    \n",
    "def get_relation_geojson_feature(element,geometry_list=['multipolygon']):\n",
    "    geometry_members = element['members']\n",
    "    properties = element['tags']\n",
    "    properties['id'] = element['id']\n",
    "    assert properties['type'] in geometry_list\n",
    "    properties['geotype'] = 5\n",
    "    linelist = []\n",
    "    for member in geometry_members :\n",
    "        if member['type'] == 'way':\n",
    "            geometry = get_geometry_by_id(member['ref'])\n",
    "            linelist.append(geometry)\n",
    "    try:\n",
    "        geometry = MultiPolygon([Polygon(line) for line in list(linemerge(linelist))])\n",
    "    except:\n",
    "        try:\n",
    "            geometry = Polygon(linemerge(linelist))\n",
    "        except:\n",
    "            geometry = linemerge(linelist)\n",
    "    return {'geometry':geometry,'properties':properties,'id':element['id']}\n",
    "\n",
    "def get_geojson_features_by_query_result(response,type='relation',geometry_list=['multipolygon']):\n",
    "    try:\n",
    "        if (type == \"relation\") :\n",
    "            # response = api.Get('%s(%s)' % (type, str(poi.id)), responseformat=\"json\")\n",
    "            elements = response['elements']\n",
    "            feature_list = [get_relation_geojson_feature(element,geometry_list) for element in elements]\n",
    "        else:\n",
    "            features = response.get(\"features\")\n",
    "            feature_list = [update_geojson_feature_for_gdf(feature,['type'],poi_type=type_dict[type]) for feature in features]\n",
    "        return feature_list\n",
    "    except Exception as inst:\n",
    "        print(inst)\n",
    "        return []\n",
    "\n",
    "def update_geojson_feature_for_gdf(feature, filter_df=None,is_centroid=False,poi_type=None,if_total_info=False) :\n",
    "    other_attributes = {key : value for key, value in feature.items() if key not in\n",
    "                        (['geometry', 'properties'] if filter_df is None else ['geometry', 'properties'] + filter_df)}\n",
    "    feature['properties'].update(other_attributes)\n",
    "    feature['poi_type'] = poi_type\n",
    "    return feature\n"
   ]
  },
  {
   "cell_type": "markdown",
   "metadata": {},
   "source": [
    "## load highway data"
   ]
  },
  {
   "cell_type": "code",
   "execution_count": 23,
   "metadata": {},
   "outputs": [],
   "source": [
    "highway_gdf = gpd.read_file('highway/highway.shp')\n",
    "tunnel_gdf = gpd.read_file('tunnel/tunnel.shp')\n"
   ]
  },
  {
   "cell_type": "markdown",
   "metadata": {},
   "source": [
    "## tunnel buffer generation"
   ]
  },
  {
   "cell_type": "code",
   "execution_count": 122,
   "metadata": {},
   "outputs": [
    {
     "name": "stderr",
     "output_type": "stream",
     "text": [
      "/Users/yuan/opt/anaconda3/lib/python3.7/site-packages/pyproj/crs/crs.py:53: FutureWarning: '+init=<authority>:<code>' syntax is deprecated. '<authority>:<code>' is the preferred initialization method. When making the change, be mindful of axis order changes: https://pyproj4.github.io/pyproj/stable/gotchas.html#axis-order-changes-in-proj-6\n",
      "  return _prepare_from_string(\" \".join(pjargs))\n"
     ]
    }
   ],
   "source": [
    "tunnel_buffer = tunnel_gdf.geometry.to_crs(from_epsg(7415)).buffer(350).to_crs(from_epsg(4326)).iloc[0]\n",
    "xmin,ymin,xmax,ymax = tunnel_buffer.buffer(0.01).bounds"
   ]
  },
  {
   "cell_type": "markdown",
   "metadata": {},
   "source": [
    "## get osm buildings and write to shapfile"
   ]
  },
  {
   "cell_type": "code",
   "execution_count": 76,
   "metadata": {},
   "outputs": [],
   "source": [
    "building_gdf_way = simple_osm_gdf(f'({ymin}, {xmin}, {ymax}, {xmax})',filter_attr='[building]',geotype='way')\n",
    "building_gdf_way['geometry'] = building_gdf_way['geometry'].apply(lambda x:Polygon(x))\n",
    "building_gdf_target = building_gdf_way[building_gdf_way.intersects(tunnel_buffer)]\n",
    "building_gdf_target.geometry =  building_gdf_target['geometry'].apply(loads)\n",
    "building_gdf_target[['geometry','building','id','source']].to_file('final_buildings/target_buildings.shp')"
   ]
  },
  {
   "cell_type": "code",
   "execution_count": 80,
   "metadata": {
    "collapsed": true
   },
   "outputs": [
    {
     "ename": "UnknownOverpassError",
     "evalue": "Received corrupt data from Overpass (incomplete polygon).",
     "output_type": "error",
     "traceback": [
      "\u001b[0;31m---------------------------------------------------------------------------\u001b[0m",
      "\u001b[0;31mUnknownOverpassError\u001b[0m                      Traceback (most recent call last)",
      "\u001b[0;32m<ipython-input-80-d02fb4dc3534>\u001b[0m in \u001b[0;36m<module>\u001b[0;34m\u001b[0m\n\u001b[0;32m----> 1\u001b[0;31m \u001b[0mbuilding_gdf_relation\u001b[0m \u001b[0;34m=\u001b[0m \u001b[0msimple_osm_gdf\u001b[0m\u001b[0;34m(\u001b[0m\u001b[0;34mf'({ymin}, {xmin}, {ymax}, {xmax})'\u001b[0m\u001b[0;34m,\u001b[0m\u001b[0mfilter_attr\u001b[0m\u001b[0;34m=\u001b[0m\u001b[0;34m'[building]'\u001b[0m\u001b[0;34m,\u001b[0m\u001b[0mgeotype\u001b[0m\u001b[0;34m=\u001b[0m\u001b[0;34m'relation'\u001b[0m\u001b[0;34m)\u001b[0m\u001b[0;34m\u001b[0m\u001b[0;34m\u001b[0m\u001b[0m\n\u001b[0m",
      "\u001b[0;32m<ipython-input-75-bc32bb321686>\u001b[0m in \u001b[0;36msimple_osm_gdf\u001b[0;34m(bounding_txt, filter_attr, geotype)\u001b[0m\n\u001b[1;32m     12\u001b[0m     \u001b[0mapi\u001b[0m \u001b[0;34m=\u001b[0m \u001b[0moverpass\u001b[0m\u001b[0;34m.\u001b[0m\u001b[0mAPI\u001b[0m\u001b[0;34m(\u001b[0m\u001b[0;34m)\u001b[0m\u001b[0;34m\u001b[0m\u001b[0;34m\u001b[0m\u001b[0m\n\u001b[1;32m     13\u001b[0m     \u001b[0mfinal_query\u001b[0m \u001b[0;34m=\u001b[0m \u001b[0;34m\"%s%s%s\"\u001b[0m \u001b[0;34m%\u001b[0m \u001b[0;34m(\u001b[0m\u001b[0mgeotype\u001b[0m\u001b[0;34m,\u001b[0m\u001b[0mfilter_attr\u001b[0m\u001b[0;34m,\u001b[0m\u001b[0mbounding_txt\u001b[0m\u001b[0;34m)\u001b[0m\u001b[0;34m\u001b[0m\u001b[0;34m\u001b[0m\u001b[0m\n\u001b[0;32m---> 14\u001b[0;31m     \u001b[0mfeatures\u001b[0m \u001b[0;34m=\u001b[0m \u001b[0mapi\u001b[0m\u001b[0;34m.\u001b[0m\u001b[0mGet\u001b[0m\u001b[0;34m(\u001b[0m\u001b[0mfinal_query\u001b[0m\u001b[0;34m,\u001b[0m\u001b[0mresponseformat\u001b[0m\u001b[0;34m=\u001b[0m\u001b[0;34m\"geojson\"\u001b[0m\u001b[0;34m,\u001b[0m\u001b[0mverbosity\u001b[0m\u001b[0;34m=\u001b[0m\u001b[0;34m'geom'\u001b[0m\u001b[0;34m)\u001b[0m\u001b[0;34m\u001b[0m\u001b[0;34m\u001b[0m\u001b[0m\n\u001b[0m\u001b[1;32m     15\u001b[0m     \u001b[0mfeature_list\u001b[0m \u001b[0;34m=\u001b[0m \u001b[0mget_geojson_features_by_query_result\u001b[0m\u001b[0;34m(\u001b[0m\u001b[0mfeatures\u001b[0m\u001b[0;34m,\u001b[0m\u001b[0mtype\u001b[0m\u001b[0;34m=\u001b[0m\u001b[0mgeotype\u001b[0m\u001b[0;34m)\u001b[0m\u001b[0;34m\u001b[0m\u001b[0;34m\u001b[0m\u001b[0m\n\u001b[1;32m     16\u001b[0m     \u001b[0;32mreturn\u001b[0m \u001b[0mgpd\u001b[0m\u001b[0;34m.\u001b[0m\u001b[0mGeoDataFrame\u001b[0m\u001b[0;34m.\u001b[0m\u001b[0mfrom_features\u001b[0m\u001b[0;34m(\u001b[0m\u001b[0mfeature_list\u001b[0m\u001b[0;34m)\u001b[0m\u001b[0;34m\u001b[0m\u001b[0;34m\u001b[0m\u001b[0m\n",
      "\u001b[0;32m~/opt/anaconda3/lib/python3.7/site-packages/overpass/api.py\u001b[0m in \u001b[0;36mget\u001b[0;34m(self, query, responseformat, verbosity, build)\u001b[0m\n\u001b[1;32m    128\u001b[0m \u001b[0;34m\u001b[0m\u001b[0m\n\u001b[1;32m    129\u001b[0m         \u001b[0;31m# construct geojson\u001b[0m\u001b[0;34m\u001b[0m\u001b[0;34m\u001b[0m\u001b[0;34m\u001b[0m\u001b[0m\n\u001b[0;32m--> 130\u001b[0;31m         \u001b[0;32mreturn\u001b[0m \u001b[0mself\u001b[0m\u001b[0;34m.\u001b[0m\u001b[0m_as_geojson\u001b[0m\u001b[0;34m(\u001b[0m\u001b[0mresponse\u001b[0m\u001b[0;34m[\u001b[0m\u001b[0;34m\"elements\"\u001b[0m\u001b[0;34m]\u001b[0m\u001b[0;34m)\u001b[0m\u001b[0;34m\u001b[0m\u001b[0;34m\u001b[0m\u001b[0m\n\u001b[0m\u001b[1;32m    131\u001b[0m \u001b[0;34m\u001b[0m\u001b[0m\n\u001b[1;32m    132\u001b[0m     \u001b[0;32mdef\u001b[0m \u001b[0msearch\u001b[0m\u001b[0;34m(\u001b[0m\u001b[0mself\u001b[0m\u001b[0;34m,\u001b[0m \u001b[0mfeature_type\u001b[0m\u001b[0;34m,\u001b[0m \u001b[0mregex\u001b[0m\u001b[0;34m=\u001b[0m\u001b[0;32mFalse\u001b[0m\u001b[0;34m)\u001b[0m\u001b[0;34m:\u001b[0m\u001b[0;34m\u001b[0m\u001b[0;34m\u001b[0m\u001b[0m\n",
      "\u001b[0;32m~/opt/anaconda3/lib/python3.7/site-packages/overpass/api.py\u001b[0m in \u001b[0;36m_as_geojson\u001b[0;34m(self, elements)\u001b[0m\n\u001b[1;32m    212\u001b[0m                             \u001b[0mpolygons\u001b[0m\u001b[0;34m.\u001b[0m\u001b[0mappend\u001b[0m\u001b[0;34m(\u001b[0m\u001b[0;34m[\u001b[0m\u001b[0mpoints\u001b[0m\u001b[0;34m]\u001b[0m\u001b[0;34m)\u001b[0m\u001b[0;34m\u001b[0m\u001b[0;34m\u001b[0m\u001b[0m\n\u001b[1;32m    213\u001b[0m                         \u001b[0;32melse\u001b[0m\u001b[0;34m:\u001b[0m\u001b[0;34m\u001b[0m\u001b[0;34m\u001b[0m\u001b[0m\n\u001b[0;32m--> 214\u001b[0;31m                             \u001b[0;32mraise\u001b[0m \u001b[0mUnknownOverpassError\u001b[0m\u001b[0;34m(\u001b[0m\u001b[0;34m\"Received corrupt data from Overpass (incomplete polygon).\"\u001b[0m\u001b[0;34m)\u001b[0m\u001b[0;34m\u001b[0m\u001b[0;34m\u001b[0m\u001b[0m\n\u001b[0m\u001b[1;32m    215\u001b[0m                 \u001b[0;31m# Then get the inner polygons\u001b[0m\u001b[0;34m\u001b[0m\u001b[0;34m\u001b[0m\u001b[0;34m\u001b[0m\u001b[0m\n\u001b[1;32m    216\u001b[0m                 \u001b[0;32mfor\u001b[0m \u001b[0mmember\u001b[0m \u001b[0;32min\u001b[0m \u001b[0melem\u001b[0m\u001b[0;34m.\u001b[0m\u001b[0mget\u001b[0m\u001b[0;34m(\u001b[0m\u001b[0;34m\"members\"\u001b[0m\u001b[0;34m,\u001b[0m \u001b[0;34m[\u001b[0m\u001b[0;34m]\u001b[0m\u001b[0;34m)\u001b[0m\u001b[0;34m:\u001b[0m\u001b[0;34m\u001b[0m\u001b[0;34m\u001b[0m\u001b[0m\n",
      "\u001b[0;31mUnknownOverpassError\u001b[0m: Received corrupt data from Overpass (incomplete polygon)."
     ]
    }
   ],
   "source": [
    "### this returns blank value so there seems to be no buildings: \n",
    "building_gdf_relation = simple_osm_gdf(f'({ymin}, {xmin}, {ymax}, {xmax})',filter_attr='[building]',geotype='relation')"
   ]
  }
 ],
 "metadata": {
  "kernelspec": {
   "display_name": "Python 3",
   "language": "python",
   "name": "python3"
  },
  "language_info": {
   "codemirror_mode": {
    "name": "ipython",
    "version": 3
   },
   "file_extension": ".py",
   "mimetype": "text/x-python",
   "name": "python",
   "nbconvert_exporter": "python",
   "pygments_lexer": "ipython3",
   "version": "3.8.8"
  },
  "latex_envs": {
   "LaTeX_envs_menu_present": true,
   "autoclose": false,
   "autocomplete": true,
   "bibliofile": "biblio.bib",
   "cite_by": "apalike",
   "current_citInitial": 1,
   "eqLabelWithNumbers": true,
   "eqNumInitial": 1,
   "hotkeys": {
    "equation": "Ctrl-E",
    "itemize": "Ctrl-I"
   },
   "labels_anchors": false,
   "latex_user_defs": false,
   "report_style_numbering": false,
   "user_envs_cfg": false
  },
  "toc": {
   "base_numbering": 1,
   "nav_menu": {},
   "number_sections": true,
   "sideBar": true,
   "skip_h1_title": false,
   "title_cell": "Table of Contents",
   "title_sidebar": "Contents",
   "toc_cell": true,
   "toc_position": {},
   "toc_section_display": true,
   "toc_window_display": true
  }
 },
 "nbformat": 4,
 "nbformat_minor": 4
}
